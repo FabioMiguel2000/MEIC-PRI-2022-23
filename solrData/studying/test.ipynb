{
 "cells": [
  {
   "cell_type": "code",
   "execution_count": 131,
   "id": "4eff891e",
   "metadata": {},
   "outputs": [],
   "source": [
    "import matplotlib.pyplot as plt\n",
    "from sklearn.metrics import PrecisionRecallDisplay\n",
    "from sklearn.metrics import auc\n",
    "import numpy as np\n",
    "import json\n",
    "import requests\n",
    "import pandas as pd\n",
    "\n",
    "QUERY_URL_BASIC = 'http://localhost:8982/solr/reviews/select?fl=score%20*&fq=rating_score%3A%20%5B8.0%20TO%2010.0%5D&indent=true&q.op=OR&q=genre%3Ajazz%5E2%0Areview_content%3Acalm%0Areview_content%3Aquiet%0Areview_content%3Aambient%0Areview_content%3Arelaxing%0Areview_content%3A%22classical%20music%22%5E2%0A!review_content%3A%22violent%22&rows=25'\n",
    "QUERY_URL_ADVANCED = 'http://localhost:8983/solr/reviews/select?fl=score%20*&fq=rating_score%3A%20%5B8.0%20TO%2010.0%5D&indent=true&q.op=OR&q=genre%3Ajazz%5E2%0Areview_content%3Acalm%0Areview_content%3Aquiet%0Areview_content%3Aambient%0Areview_content%3Arelaxing%0Areview_content%3A%22classical%20music%22%5E2%0A!review_content%3A%22violent%22&rows=25'\n",
    "\n",
    "QRELS_FILE_BASIC = f'qrels1_basic.txt'\n",
    "QRELS_FILE_ADVANCED = f'qrels1_advanced.txt'"
   ]
  },
  {
   "cell_type": "code",
   "execution_count": 132,
   "id": "c40ecdeb",
   "metadata": {},
   "outputs": [],
   "source": [
    "relevant_basic = list(map(lambda el: [int(el.strip())], open(QRELS_FILE_BASIC).readlines()))\n",
    "results_basic = requests.get(QUERY_URL_BASIC).json()['response']['docs']\n",
    "\n",
    "relevant_advanced = list(map(lambda el: el.strip(), open(QRELS_FILE_ADVANCED).readlines()))\n",
    "results_advanced = requests.get(QUERY_URL_ADVANCED).json()['response']['docs']\n",
    "\n",
    "# results_advanced[0]['reviewid']"
   ]
  },
  {
   "cell_type": "code",
   "execution_count": 133,
   "id": "55f056f9",
   "metadata": {},
   "outputs": [
    {
     "name": "stdout",
     "output_type": "stream",
     "text": [
      "<function <lambda> at 0x150146ca0>\n"
     ]
    }
   ],
   "source": [
    "metrics = {}\n",
    "metric = lambda f: metrics.setdefault(f.__name__, f)\n",
    "print(metric)"
   ]
  },
  {
   "cell_type": "code",
   "execution_count": 134,
   "id": "7faa69eb",
   "metadata": {},
   "outputs": [],
   "source": [
    "@metric\n",
    "def ap(results, relevant):\n",
    "    \"\"\"Average Precision\"\"\"\n",
    "    for doc in results:\n",
    "        print(doc['reviewid'])\n",
    "    precision_values = [\n",
    "        len([\n",
    "            doc \n",
    "            for doc in results[:idx]\n",
    "            if doc['reviewid'] in relevant\n",
    "        ]) / idx \n",
    "        for idx in range(1, len(results))\n",
    "    ]\n",
    "    print(precision_values)\n",
    "    return sum(precision_values)/len(precision_values)\n",
    "\n",
    "@metric\n",
    "def p5(results, relevant, n=5):\n",
    "    \"\"\"Precision at N\"\"\"\n",
    "    return len([doc for doc in results[:n] if doc['reviewid'] in relevant])/n\n",
    "\n",
    "@metric\n",
    "def p10(results, relevant, n=10):\n",
    "    \"\"\"Precision at N\"\"\"\n",
    "    return len([doc for doc in results[:n] if doc['reviewid'] in relevant])/n\n",
    "\n",
    "@metric\n",
    "def p15(results, relevant, n=15):\n",
    "    \"\"\"Precision at N\"\"\"\n",
    "    return len([doc for doc in results[:n] if doc['reviewid'] in relevant])/n\n",
    "\n",
    "@metric\n",
    "def p20(results, relevant, n=20):\n",
    "    \"\"\"Precision at N\"\"\"\n",
    "    return len([doc for doc in results[:n] if doc['reviewid'] in relevant])/n\n",
    "\n",
    "@metric\n",
    "def p25(results, relevant, n=25):\n",
    "    \"\"\"Precision at N\"\"\"\n",
    "    return len([doc for doc in results[:n] if doc['reviewid'] in relevant])/n\n",
    "\n",
    "def calculate_metric(key, results, relevant):\n",
    "    return metrics[key](results, relevant)\n",
    "\n",
    "# Define metrics to be calculated\n",
    "evaluation_metrics = {\n",
    "    'ap': 'Average Precision',\n",
    "    'p5': 'Precision at 05 (P@05)',\n",
    "    'p10': 'Precision at 10 (P@10)',\n",
    "    'p15': 'Precision at 15 (P@15)',\n",
    "    'p20': 'Precision at 20 (P@20)',\n",
    "    'p25': 'Precision at 25 (P@25)'\n",
    "}"
   ]
  },
  {
   "cell_type": "code",
   "execution_count": 135,
   "id": "44334d9d",
   "metadata": {},
   "outputs": [
    {
     "name": "stdout",
     "output_type": "stream",
     "text": [
      "[12448]\n",
      "[13088]\n",
      "[22299]\n",
      "[13247]\n",
      "[21518]\n",
      "[4785]\n",
      "[7119]\n",
      "[22664]\n",
      "[8483]\n",
      "[16756]\n",
      "[2197]\n",
      "[10022]\n",
      "[7438]\n",
      "[20090]\n",
      "[5368]\n",
      "[10]\n",
      "[21158]\n",
      "[6280]\n",
      "[20811]\n",
      "[22347]\n",
      "[10901]\n",
      "[19736]\n",
      "[1112]\n",
      "[13064]\n",
      "[5251]\n",
      "[0.0, 0.5, 0.6666666666666666, 0.75, 0.6, 0.6666666666666666, 0.5714285714285714, 0.625, 0.6666666666666666, 0.6, 0.5454545454545454, 0.5, 0.5384615384615384, 0.5, 0.4666666666666667, 0.4375, 0.4117647058823529, 0.3888888888888889, 0.3684210526315789, 0.35, 0.3333333333333333, 0.3181818181818182, 0.30434782608695654, 0.2916666666666667]\n"
     ]
    },
    {
     "name": "stderr",
     "output_type": "stream",
     "text": [
      "/var/folders/89/16jzh22s51vd7yf1qx64cgdh0000gn/T/ipykernel_92554/1384990862.py:10: FutureWarning: In future versions `DataFrame.to_latex` is expected to utilise the base implementation of `Styler.to_latex` for formatting and rendering. The arguments signature may therefore change. It is recommended instead to use `DataFrame.style.to_latex` which also contains additional functionality.\n",
      "  tf.write(df_basic.to_latex())\n"
     ]
    }
   ],
   "source": [
    "# Calculate all metrics and export results as LaTeX table\n",
    "df_basic = pd.DataFrame([['Metric','Value']] +\n",
    "    [\n",
    "        [evaluation_metrics[m], calculate_metric(m, results_basic, relevant_basic)]\n",
    "        for m in evaluation_metrics\n",
    "    ]\n",
    ")\n",
    "\n",
    "with open(f'results_basic_2.tex','w') as tf:\n",
    "    tf.write(df_basic.to_latex())\n",
    "\n"
   ]
  },
  {
   "cell_type": "code",
   "execution_count": 136,
   "id": "dd2fc546",
   "metadata": {},
   "outputs": [
    {
     "name": "stdout",
     "output_type": "stream",
     "text": [
      "12448\n",
      "13088\n",
      "22299\n",
      "4785\n",
      "13247\n",
      "21518\n",
      "7119\n",
      "22664\n",
      "8483\n",
      "16756\n",
      "13379\n",
      "2197\n",
      "7438\n",
      "10022\n",
      "6280\n",
      "10\n",
      "7445\n",
      "20090\n",
      "21158\n",
      "20557\n",
      "20811\n",
      "22347\n",
      "10901\n",
      "20505\n",
      "2434\n",
      "[0.0, 0.5, 0.6666666666666666, 0.75, 0.8, 0.6666666666666666, 0.5714285714285714, 0.625, 0.6666666666666666, 0.6, 0.6363636363636364, 0.5833333333333334, 0.6153846153846154, 0.5714285714285714, 0.5333333333333333, 0.5, 0.47058823529411764, 0.4444444444444444, 0.42105263157894735, 0.45, 0.42857142857142855, 0.4090909090909091, 0.391304347826087, 0.4166666666666667]\n"
     ]
    },
    {
     "name": "stderr",
     "output_type": "stream",
     "text": [
      "/var/folders/89/16jzh22s51vd7yf1qx64cgdh0000gn/T/ipykernel_92554/1180343754.py:9: FutureWarning: In future versions `DataFrame.to_latex` is expected to utilise the base implementation of `Styler.to_latex` for formatting and rendering. The arguments signature may therefore change. It is recommended instead to use `DataFrame.style.to_latex` which also contains additional functionality.\n",
      "  tf.write(df_advanced.to_latex())\n"
     ]
    }
   ],
   "source": [
    "df_advanced = pd.DataFrame([['Metric','Value']] +\n",
    "    [\n",
    "        [evaluation_metrics[m], calculate_metric(m, results_advanced, relevant_advanced)]\n",
    "        for m in evaluation_metrics\n",
    "    ]\n",
    ")\n",
    "\n",
    "with open(f'results_advanced.tex','w') as tf:\n",
    "    tf.write(df_advanced.to_latex())"
   ]
  },
  {
   "cell_type": "code",
   "execution_count": 137,
   "id": "37376d91",
   "metadata": {},
   "outputs": [],
   "source": [
    "# PRECISION-RECALL CURVE\n",
    "# Calculate precision and recall values as we move down the ranked list\n",
    "precision_values_basic = [\n",
    "    len([\n",
    "        doc \n",
    "        for doc in results_basic[:idx]\n",
    "        if doc['reviewid'] in relevant_basic\n",
    "    ]) / idx \n",
    "    for idx, _ in enumerate(results_basic, start=1)\n",
    "]\n",
    "\n",
    "recall_values_basic = [\n",
    "    len([\n",
    "        doc for doc in results_basic[:idx]\n",
    "        if doc['reviewid'] in relevant_basic\n",
    "    ]) / len(relevant_basic)\n",
    "    for idx, _ in enumerate(results_basic, start=1)\n",
    "]\n",
    "\n"
   ]
  },
  {
   "cell_type": "code",
   "execution_count": 138,
   "id": "00550fda",
   "metadata": {},
   "outputs": [],
   "source": [
    "precision_values_advanced = [\n",
    "    len([\n",
    "        doc \n",
    "        for doc in results_advanced[:idx]\n",
    "        if doc['reviewid'] in relevant_advanced\n",
    "    ]) / idx \n",
    "    for idx, _ in enumerate(results_advanced, start=1)\n",
    "]\n",
    "\n",
    "recall_values_advanced = [\n",
    "    len([\n",
    "        doc for doc in results_advanced[:idx]\n",
    "        if doc['reviewid'] in relevant_advanced\n",
    "    ]) / len(relevant_advanced)\n",
    "    for idx, _ in enumerate(results_advanced, start=1)\n",
    "]"
   ]
  },
  {
   "cell_type": "code",
   "execution_count": 139,
   "id": "4af8640c",
   "metadata": {},
   "outputs": [
    {
     "data": {
      "text/plain": [
       "[0.0,\n",
       " 0.1,\n",
       " 0.11,\n",
       " 0.12,\n",
       " 0.13,\n",
       " 0.13999999999999999,\n",
       " 0.14285714285714285,\n",
       " 0.14999999999999997,\n",
       " 0.15999999999999998,\n",
       " 0.16999999999999998,\n",
       " 0.17999999999999997,\n",
       " 0.18999999999999995,\n",
       " 0.19999999999999996,\n",
       " 0.20999999999999996,\n",
       " 0.21999999999999995,\n",
       " 0.22999999999999995,\n",
       " 0.23999999999999994,\n",
       " 0.24999999999999992,\n",
       " 0.2599999999999999,\n",
       " 0.2699999999999999,\n",
       " 0.2799999999999999,\n",
       " 0.2857142857142857,\n",
       " 0.2899999999999999,\n",
       " 0.29999999999999993,\n",
       " 0.30999999999999994,\n",
       " 0.3199999999999999,\n",
       " 0.32999999999999985,\n",
       " 0.33999999999999986,\n",
       " 0.34999999999999987,\n",
       " 0.3599999999999999,\n",
       " 0.3699999999999999,\n",
       " 0.3799999999999999,\n",
       " 0.3899999999999999,\n",
       " 0.3999999999999998,\n",
       " 0.4099999999999998,\n",
       " 0.4199999999999998,\n",
       " 0.42857142857142855,\n",
       " 0.4299999999999998,\n",
       " 0.43999999999999984,\n",
       " 0.44999999999999984,\n",
       " 0.45999999999999985,\n",
       " 0.46999999999999986,\n",
       " 0.47999999999999976,\n",
       " 0.48999999999999977,\n",
       " 0.4999999999999998,\n",
       " 0.5099999999999998,\n",
       " 0.5199999999999998,\n",
       " 0.5299999999999998,\n",
       " 0.5399999999999998,\n",
       " 0.5499999999999998,\n",
       " 0.5599999999999997,\n",
       " 0.5699999999999997,\n",
       " 0.5714285714285714,\n",
       " 0.5799999999999997,\n",
       " 0.5899999999999997,\n",
       " 0.5999999999999998,\n",
       " 0.6099999999999998,\n",
       " 0.6199999999999998,\n",
       " 0.6299999999999997,\n",
       " 0.6399999999999997,\n",
       " 0.6499999999999997,\n",
       " 0.6599999999999997,\n",
       " 0.6699999999999997,\n",
       " 0.6799999999999997,\n",
       " 0.6899999999999997,\n",
       " 0.6999999999999996,\n",
       " 0.7099999999999996,\n",
       " 0.7142857142857143,\n",
       " 0.7199999999999996,\n",
       " 0.7299999999999996,\n",
       " 0.7399999999999997,\n",
       " 0.7499999999999997,\n",
       " 0.7599999999999997,\n",
       " 0.7699999999999997,\n",
       " 0.7799999999999997,\n",
       " 0.7899999999999996,\n",
       " 0.7999999999999996,\n",
       " 0.8099999999999996,\n",
       " 0.8199999999999996,\n",
       " 0.8299999999999996,\n",
       " 0.8399999999999996,\n",
       " 0.8499999999999996,\n",
       " 0.8571428571428571,\n",
       " 0.8599999999999995,\n",
       " 0.8699999999999996,\n",
       " 0.8799999999999996,\n",
       " 0.8899999999999996,\n",
       " 0.8999999999999996,\n",
       " 0.9099999999999996,\n",
       " 0.9199999999999996,\n",
       " 0.9299999999999996,\n",
       " 0.9399999999999996,\n",
       " 0.9499999999999995,\n",
       " 0.9599999999999995,\n",
       " 0.9699999999999995,\n",
       " 0.9799999999999995,\n",
       " 0.9899999999999995,\n",
       " 0.9999999999999996,\n",
       " 1.0,\n",
       " 1.0099999999999996,\n",
       " 1.0199999999999996,\n",
       " 1.0299999999999996,\n",
       " 1.0399999999999996,\n",
       " 1.0499999999999996,\n",
       " 1.0599999999999996,\n",
       " 1.0699999999999996,\n",
       " 1.0799999999999996,\n",
       " 1.0899999999999996]"
      ]
     },
     "execution_count": 139,
     "metadata": {},
     "output_type": "execute_result"
    }
   ],
   "source": [
    "precision_recall_match_basic = {k: v for k,v in zip(recall_values_basic, precision_values_basic)}\n",
    "precision_recall_match_advanced = {k: v for k,v in zip(recall_values_advanced, precision_values_advanced)}\n",
    "\n",
    "# Extend recall_values to include traditional steps for a better curve (0.1, 0.2 ...)\n",
    "recall_values_basic.extend([step for step in np.arange(0.1, 1.1, 0.01) if step not in recall_values_basic])\n",
    "recall_values_basic = sorted(set(recall_values_basic))\n",
    "\n",
    "recall_values_advanced.extend([step for step in np.arange(0.1, 1.1, 0.01) if step not in recall_values_advanced])\n",
    "recall_values_advanced = sorted(set(recall_values_advanced))\n",
    "\n",
    "recall_values_basic"
   ]
  },
  {
   "cell_type": "code",
   "execution_count": 140,
   "id": "1dd0a4a3",
   "metadata": {},
   "outputs": [],
   "source": [
    "for idx, step in enumerate(recall_values_basic):\n",
    "    if step not in precision_recall_match_basic:\n",
    "        if recall_values_basic[idx-1] in precision_recall_match_basic:\n",
    "            precision_recall_match_basic[step] = precision_recall_match_basic[recall_values_basic[idx-1]]\n",
    "        else:\n",
    "            precision_recall_match_basic[step] = precision_recall_match_basic[recall_values_basic[idx+1]]\n",
    "\n",
    "for idx, step in enumerate(recall_values_advanced):\n",
    "    if step not in precision_recall_match_advanced:\n",
    "        if recall_values_advanced[idx-1] in precision_recall_match_advanced:\n",
    "            precision_recall_match_advanced[step] = precision_recall_match_advanced[recall_values_advanced[idx-1]]\n",
    "        else:\n",
    "            precision_recall_match_advanced[step] = precision_recall_match_advanced[recall_values_advanced[idx+1]]\n",
    "\n"
   ]
  },
  {
   "cell_type": "code",
   "execution_count": 141,
   "id": "da03abe8",
   "metadata": {},
   "outputs": [],
   "source": [
    "disp_basic = PrecisionRecallDisplay([precision_recall_match_basic.get(r) for r in recall_values_basic], recall_values_basic)\n",
    "disp_advanced = PrecisionRecallDisplay([precision_recall_match_advanced.get(r) for r in recall_values_advanced], recall_values_advanced)"
   ]
  },
  {
   "cell_type": "code",
   "execution_count": 142,
   "id": "6dd28fdc",
   "metadata": {},
   "outputs": [
    {
     "data": {
      "text/plain": [
       "[0.0,\n",
       " 0.1,\n",
       " 0.11,\n",
       " 0.12,\n",
       " 0.13,\n",
       " 0.13999999999999999,\n",
       " 0.14285714285714285,\n",
       " 0.14999999999999997,\n",
       " 0.15999999999999998,\n",
       " 0.16999999999999998,\n",
       " 0.17999999999999997,\n",
       " 0.18999999999999995,\n",
       " 0.19999999999999996,\n",
       " 0.20999999999999996,\n",
       " 0.21999999999999995,\n",
       " 0.22999999999999995,\n",
       " 0.23999999999999994,\n",
       " 0.24999999999999992,\n",
       " 0.2599999999999999,\n",
       " 0.2699999999999999,\n",
       " 0.2799999999999999,\n",
       " 0.2857142857142857,\n",
       " 0.2899999999999999,\n",
       " 0.29999999999999993,\n",
       " 0.30999999999999994,\n",
       " 0.3199999999999999,\n",
       " 0.32999999999999985,\n",
       " 0.33999999999999986,\n",
       " 0.34999999999999987,\n",
       " 0.3599999999999999,\n",
       " 0.3699999999999999,\n",
       " 0.3799999999999999,\n",
       " 0.3899999999999999,\n",
       " 0.3999999999999998,\n",
       " 0.4099999999999998,\n",
       " 0.4199999999999998,\n",
       " 0.42857142857142855,\n",
       " 0.4299999999999998,\n",
       " 0.43999999999999984,\n",
       " 0.44999999999999984,\n",
       " 0.45999999999999985,\n",
       " 0.46999999999999986,\n",
       " 0.47999999999999976,\n",
       " 0.48999999999999977,\n",
       " 0.4999999999999998,\n",
       " 0.5099999999999998,\n",
       " 0.5199999999999998,\n",
       " 0.5299999999999998,\n",
       " 0.5399999999999998,\n",
       " 0.5499999999999998,\n",
       " 0.5599999999999997,\n",
       " 0.5699999999999997,\n",
       " 0.5714285714285714,\n",
       " 0.5799999999999997,\n",
       " 0.5899999999999997,\n",
       " 0.5999999999999998,\n",
       " 0.6099999999999998,\n",
       " 0.6199999999999998,\n",
       " 0.6299999999999997,\n",
       " 0.6399999999999997,\n",
       " 0.6499999999999997,\n",
       " 0.6599999999999997,\n",
       " 0.6699999999999997,\n",
       " 0.6799999999999997,\n",
       " 0.6899999999999997,\n",
       " 0.6999999999999996,\n",
       " 0.7099999999999996,\n",
       " 0.7142857142857143,\n",
       " 0.7199999999999996,\n",
       " 0.7299999999999996,\n",
       " 0.7399999999999997,\n",
       " 0.7499999999999997,\n",
       " 0.7599999999999997,\n",
       " 0.7699999999999997,\n",
       " 0.7799999999999997,\n",
       " 0.7899999999999996,\n",
       " 0.7999999999999996,\n",
       " 0.8099999999999996,\n",
       " 0.8199999999999996,\n",
       " 0.8299999999999996,\n",
       " 0.8399999999999996,\n",
       " 0.8499999999999996,\n",
       " 0.8571428571428571,\n",
       " 0.8599999999999995,\n",
       " 0.8699999999999996,\n",
       " 0.8799999999999996,\n",
       " 0.8899999999999996,\n",
       " 0.8999999999999996,\n",
       " 0.9099999999999996,\n",
       " 0.9199999999999996,\n",
       " 0.9299999999999996,\n",
       " 0.9399999999999996,\n",
       " 0.9499999999999995,\n",
       " 0.9599999999999995,\n",
       " 0.9699999999999995,\n",
       " 0.9799999999999995,\n",
       " 0.9899999999999995,\n",
       " 0.9999999999999996,\n",
       " 1.0,\n",
       " 1.0099999999999996,\n",
       " 1.0199999999999996,\n",
       " 1.0299999999999996,\n",
       " 1.0399999999999996,\n",
       " 1.0499999999999996,\n",
       " 1.0599999999999996,\n",
       " 1.0699999999999996,\n",
       " 1.0799999999999996,\n",
       " 1.0899999999999996]"
      ]
     },
     "execution_count": 142,
     "metadata": {},
     "output_type": "execute_result"
    }
   ],
   "source": [
    "recall_values_basic"
   ]
  },
  {
   "cell_type": "code",
   "execution_count": 143,
   "id": "e0fd389a",
   "metadata": {
    "scrolled": false
   },
   "outputs": [
    {
     "data": {
      "text/plain": [
       "<sklearn.metrics._plot.precision_recall_curve.PrecisionRecallDisplay at 0x150429b10>"
      ]
     },
     "execution_count": 143,
     "metadata": {},
     "output_type": "execute_result"
    },
    {
     "data": {
      "image/png": "[encoded data removed]",
      "text/plain": [
       "<Figure size 640x480 with 1 Axes>"
      ]
     },
     "metadata": {},
     "output_type": "display_data"
    }
   ],
   "source": [
    "disp_basic.plot()"
   ]
  },
  {
   "cell_type": "code",
   "execution_count": 88,
   "id": "0c14355a",
   "metadata": {},
   "outputs": [
    {
     "data": {
      "text/plain": [
       "[0.0,\n",
       " 0.1,\n",
       " 0.14285714285714285,\n",
       " 0.2,\n",
       " 0.2857142857142857,\n",
       " 0.30000000000000004,\n",
       " 0.4,\n",
       " 0.42857142857142855,\n",
       " 0.5,\n",
       " 0.5714285714285714,\n",
       " 0.6,\n",
       " 0.7000000000000001,\n",
       " 0.7142857142857143,\n",
       " 0.8,\n",
       " 0.8571428571428571,\n",
       " 0.9,\n",
       " 1.0]"
      ]
     },
     "execution_count": 88,
     "metadata": {},
     "output_type": "execute_result"
    }
   ],
   "source": [
    "# from sklearn.metrics import precision_recall_curve\n",
    "# from sklearn.metrics import plot_precision_recall_curve\n",
    "# import matplotlib.pyplot as plt\n",
    "\n",
    "# plot_precision_recall_curve(ada_sm, X_test, y_test, ax = plt.gca(),name = \"SMOTE\")\n",
    "\n",
    "# plot_precision_recall_curve(ada_rus, X_test, y_test, ax = plt.gca(),name = \"RUS\")\n",
    "\n",
    "# plt.title('Precision-Recall curve')\n",
    "disp_basic.recall"
   ]
  },
  {
   "cell_type": "code",
   "execution_count": 26,
   "id": "66e96b6c",
   "metadata": {},
   "outputs": [
    {
     "data": {
      "text/plain": [
       "[0.0,\n",
       " 0.0,\n",
       " 0.5,\n",
       " 0.5,\n",
       " 0.6666666666666666,\n",
       " 0.6666666666666666,\n",
       " 0.6666666666666666,\n",
       " 0.75,\n",
       " 0.75,\n",
       " 0.5714285714285714,\n",
       " 0.5714285714285714,\n",
       " 0.5714285714285714,\n",
       " 0.625,\n",
       " 0.625,\n",
       " 0.5,\n",
       " 0.5,\n",
       " 0.28]"
      ]
     },
     "execution_count": 26,
     "metadata": {},
     "output_type": "execute_result"
    }
   ],
   "source": [
    "disp_basic.precision"
   ]
  },
  {
   "cell_type": "code",
   "execution_count": 97,
   "id": "39a952df",
   "metadata": {},
   "outputs": [
    {
     "data": {
      "text/plain": [
       "[0.0,\n",
       " 0.0,\n",
       " 0.5,\n",
       " 0.5,\n",
       " 0.6666666666666666,\n",
       " 0.6666666666666666,\n",
       " 0.6666666666666666,\n",
       " 0.6,\n",
       " 0.6,\n",
       " 0.5714285714285714,\n",
       " 0.5714285714285714,\n",
       " 0.5714285714285714,\n",
       " 0.625,\n",
       " 0.625,\n",
       " 0.5,\n",
       " 0.5,\n",
       " 0.28]"
      ]
     },
     "execution_count": 97,
     "metadata": {},
     "output_type": "execute_result"
    }
   ],
   "source": [
    "[precision_recall_match_basic.get(r) for r in recall_values_basic]"
   ]
  },
  {
   "cell_type": "code",
   "execution_count": 144,
   "id": "ae64c8e9",
   "metadata": {},
   "outputs": [
    {
     "data": {
      "image/png": "[encoded data removed]",
      "text/plain": [
       "<Figure size 640x480 with 1 Axes>"
      ]
     },
     "metadata": {},
     "output_type": "display_data"
    }
   ],
   "source": [
    "plt.plot( recall_values_basic, [precision_recall_match_basic.get(r) for r in recall_values_basic],label=\"No Schema\", color='lime')\n",
    "plt.plot( recall_values_advanced, [precision_recall_match_advanced.get(r) for r in recall_values_advanced],label=\"With Schema\", color = 'forestgreen')\n",
    "\n",
    "plt.xlabel(\"Recall\")\n",
    "plt.ylabel(\"Precision\")\n",
    "\n",
    "plt.legend()\n",
    "\n",
    "plt.savefig('BoringplotTogether.png')\n"
   ]
  },
  {
   "cell_type": "code",
   "execution_count": null,
   "id": "e2912875",
   "metadata": {},
   "outputs": [],
   "source": [
    "auc_precision_recall_basic = auc(disp.recall_basic,disp.precision_basic)\n",
    "auc_precision_recall_advanced = auc(disp.recall_advanced,disp.precision_advanced)"
   ]
  }
 ],
 "metadata": {
  "kernelspec": {
   "display_name": "Python 3 (ipykernel)",
   "language": "python",
   "name": "python3"
  },
  "language_info": {
   "codemirror_mode": {
    "name": "ipython",
    "version": 3
   },
   "file_extension": ".py",
   "mimetype": "text/x-python",
   "name": "python",
   "nbconvert_exporter": "python",
   "pygments_lexer": "ipython3",
   "version": "3.11.0"
  }
 },
 "nbformat": 4,
 "nbformat_minor": 5
}
