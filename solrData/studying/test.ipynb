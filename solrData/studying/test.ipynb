{
 "cells": [
  {
   "cell_type": "code",
   "execution_count": 3,
   "id": "a8d2a35d",
   "metadata": {},
   "outputs": [],
   "source": [
    "import matplotlib.pyplot as plt\n",
    "from sklearn.metrics import PrecisionRecallDisplay\n",
    "from sklearn.metrics import auc\n",
    "import numpy as np\n",
    "import json\n",
    "import requests\n",
    "import pandas as pd\n",
    "\n",
    "QUERY_URL_BASIC = 'http://localhost:8982/solr/reviews/select?fl=score%20*&fq=rating_score%3A%20%5B8.0%20TO%2010.0%5D&indent=true&q.op=OR&q=genre%3Ajazz%5E2%0Areview_content%3Acalm%0Areview_content%3Aquiet%0Areview_content%3Aambient%0Areview_content%3Arelaxing%0Areview_content%3A%22classical%20music%22%5E2%0A!review_content%3A%22violent%22&rows=25'\n",
    "QUERY_URL_ADVANCED = 'http://localhost:8984/solr/reviews/select?fl=score%20*&fq=rating_score%3A%20%5B8.0%20TO%2010.0%5D&indent=true&q.op=OR&q=genre%3Ajazz%5E2%0Areview_content%3Acalm%0Areview_content%3Aquiet%0Areview_content%3Aambient%0Areview_content%3Arelaxing%0Areview_content%3A%22classical%20music%22%5E2%0A!review_content%3A%22violent%22&rows=25'\n",
    "\n",
    "QRELS_FILE_BASIC = f'qrels1_basic.txt'\n",
    "QRELS_FILE_ADVANCED = f'qrels1_advanced.txt'"
   ]
  },
  {
   "cell_type": "code",
   "execution_count": 4,
   "id": "4bd2f720",
   "metadata": {},
   "outputs": [],
   "source": [
    "relevant_basic = list(map(lambda el: [int(el.strip())], open(QRELS_FILE_BASIC).readlines()))\n",
    "results_basic = requests.get(QUERY_URL_BASIC).json()['response']['docs']\n",
    "\n",
    "relevant_advanced = list(map(lambda el: [int(el.strip())], open(QRELS_FILE_ADVANCED).readlines()))\n",
    "results_advanced = requests.get(QUERY_URL_ADVANCED).json()['response']['docs']\n"
   ]
  },
  {
   "cell_type": "code",
   "execution_count": 5,
   "id": "9e7827a2",
   "metadata": {},
   "outputs": [
    {
     "name": "stdout",
     "output_type": "stream",
     "text": [
      "<function <lambda> at 0x282a95f80>\n"
     ]
    }
   ],
   "source": [
    "metrics = {}\n",
    "metric = lambda f: metrics.setdefault(f.__name__, f)\n",
    "print(metric)"
   ]
  },
  {
   "cell_type": "code",
   "execution_count": 6,
   "id": "d8466f38",
   "metadata": {},
   "outputs": [],
   "source": [
    "@metric\n",
    "def ap(results, relevant):\n",
    "    \"\"\"Average Precision\"\"\"\n",
    "    for doc in results:\n",
    "        print(doc['reviewid'])\n",
    "    precision_values = [\n",
    "        len([\n",
    "            doc \n",
    "            for doc in results[:idx]\n",
    "            if doc['reviewid'] in relevant\n",
    "        ]) / idx \n",
    "        for idx in range(1, len(results))\n",
    "    ]\n",
    "    return sum(precision_values)/len(precision_values)\n",
    "\n",
    "\n",
    "@metric\n",
    "def p10(results, relevant, n=10):\n",
    "    \"\"\"Precision at N\"\"\"\n",
    "    return len([doc for doc in results[:n] if doc['reviewid'] in relevant])/n\n",
    "\n",
    "def calculate_metric(key, results, relevant):\n",
    "    return metrics[key](results, relevant)\n",
    "\n",
    "# Define metrics to be calculated\n",
    "evaluation_metrics = {\n",
    "    'ap': 'Average Precision',\n",
    "    'p10': 'Precision at 10 (P@10)'\n",
    "}"
   ]
  },
  {
   "cell_type": "code",
   "execution_count": null,
   "id": "6e3a0212",
   "metadata": {},
   "outputs": [],
   "source": [
    "# Calculate all metrics and export results as LaTeX table\n",
    "df_basic = pd.DataFrame([['Metric','Value']] +\n",
    "    [\n",
    "        [evaluation_metrics[m], calculate_metric(m, results_basic, relevant_basic)]\n",
    "        for m in evaluation_metrics\n",
    "    ]\n",
    ")\n",
    "\n",
    "with open(f'results_basic.tex','w') as tf:\n",
    "    tf.write(df_basic.to_latex())\n",
    "\n",
    "df_advanced = pd.DataFrame([['Metric','Value']] +\n",
    "    [\n",
    "        [evaluation_metrics[m], calculate_metric(m, results_advanced, relevant_advanced)]\n",
    "        for m in evaluation_metrics\n",
    "    ]\n",
    ")\n",
    "\n",
    "with open(f'results_advanced.tex','w') as tf:\n",
    "    tf.write(df_advanced.to_latex())"
   ]
  },
  {
   "cell_type": "code",
   "execution_count": null,
   "id": "b137c465",
   "metadata": {},
   "outputs": [],
   "source": [
    "# PRECISION-RECALL CURVE\n",
    "# Calculate precision and recall values as we move down the ranked list\n",
    "precision_values_basic = [\n",
    "    len([\n",
    "        doc \n",
    "        for doc in results_basic[:idx]\n",
    "        if doc['reviewid'] in relevant_basic\n",
    "    ]) / idx \n",
    "    for idx, _ in enumerate(results_basic, start=1)\n",
    "]\n",
    "\n",
    "recall_values_basic = [\n",
    "    len([\n",
    "        doc for doc in results_basic[:idx]\n",
    "        if doc['reviewid'] in relevant_basic\n",
    "    ]) / len(relevant)\n",
    "    for idx, _ in enumerate(results_basic, start=1)\n",
    "]\n",
    "\n",
    "precision_values_advanced = [\n",
    "    len([\n",
    "        doc \n",
    "        for doc in results_advanced[:idx]\n",
    "        if doc['reviewid'] in relevant_advanced\n",
    "    ]) / idx \n",
    "    for idx, _ in enumerate(results_advanced, start=1)\n",
    "]\n",
    "\n",
    "recall_values_basic_advanced = [\n",
    "    len([\n",
    "        doc for doc in results_advanced[:idx]\n",
    "        if doc['reviewid'] in relevant_advanced\n",
    "    ]) / len(relevant)\n",
    "    for idx, _ in enumerate(results_advanced, start=1)\n",
    "]"
   ]
  },
  {
   "cell_type": "code",
   "execution_count": null,
   "id": "b49ca4f0",
   "metadata": {},
   "outputs": [],
   "source": [
    "precision_recall_match_basic = {k: v for k,v in zip(recall_values_basic, precision_values_basic)}\n",
    "precision_recall_match_advanced = {k: v for k,v in zip(recall_values_advanced, precision_values_advanced)}\n",
    "\n",
    "# Extend recall_values to include traditional steps for a better curve (0.1, 0.2 ...)\n",
    "recall_values_basic.extend([step for step in np.arange(0.1, 1.1, 0.1) if step not in recall_values_basic])\n",
    "recall_values_basic = sorted(set(recall_values_basic))\n",
    "\n",
    "recall_values_advanced.extend([step for step in np.arange(0.1, 1.1, 0.1) if step not in recall_values_advanced])\n",
    "recall_values_advanced = sorted(set(recall_values_advanced))"
   ]
  },
  {
   "cell_type": "code",
   "execution_count": null,
   "id": "691c61a5",
   "metadata": {},
   "outputs": [],
   "source": [
    "for idx, step in enumerate(recall_values_basic):\n",
    "    if step not in precision_recall_match_basic:\n",
    "        if recall_values_basic[idx-1] in precision_recall_match_basic:\n",
    "            precision_recall_match_basic[step] = precision_recall_match_basic[recall_values_basic[idx-1]]\n",
    "        else:\n",
    "            precision_recall_match_basic[step] = precision_recall_match_basic[recall_values_basic[idx+1]]\n",
    "\n",
    "for idx, step in enumerate(recall_values_advanced):\n",
    "    if step not in precision_recall_match_advanced:\n",
    "        if recall_values_advanced[idx-1] in precision_recall_match_advanced:\n",
    "            precision_recall_match_advanced[step] = precision_recall_match_advanced[recall_values_advanced[idx-1]]\n",
    "        else:\n",
    "            precision_recall_match_advanced[step] = precision_recall_match_advanced[recall_values_advanced[idx+1]]\n",
    "\n"
   ]
  },
  {
   "cell_type": "code",
   "execution_count": null,
   "id": "ed27054f",
   "metadata": {},
   "outputs": [],
   "source": [
    "disp_basic = PrecisionRecallDisplay([precision_recall_match_basic.get(r) for r in recall_values_basic], recall_values_basic)\n",
    "disp_advanced = PrecisionRecallDisplay([precision_recall_match_advanced.get(r) for r in recall_values_advanced], recall_values_advanced)"
   ]
  },
  {
   "cell_type": "code",
   "execution_count": null,
   "id": "26760ab9",
   "metadata": {},
   "outputs": [],
   "source": [
    "auc_precision_recall_basic = auc(disp.recall_basic,disp.precision_basic)\n",
    "auc_precision_recall_advanced = auc(disp.recall_advanced,disp.precision_advanced)"
   ]
  }
 ],
 "metadata": {
  "kernelspec": {
   "display_name": "Python 3 (ipykernel)",
   "language": "python",
   "name": "python3"
  },
  "language_info": {
   "codemirror_mode": {
    "name": "ipython",
    "version": 3
   },
   "file_extension": ".py",
   "mimetype": "text/x-python",
   "name": "python",
   "nbconvert_exporter": "python",
   "pygments_lexer": "ipython3",
   "version": "3.11.0"
  }
 },
 "nbformat": 4,
 "nbformat_minor": 5
}
