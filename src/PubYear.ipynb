{
 "cells": [
  {
   "cell_type": "code",
   "execution_count": 11,
   "id": "fa443884",
   "metadata": {},
   "outputs": [
    {
     "data": {
      "text/plain": [
       "<bound method NDFrame.head of        reviewid                        title          artist_x  \\\n",
       "0         22703                    mezzanine    massive attack   \n",
       "1         22721                 prelapsarian          krallice   \n",
       "2         22659         all of them naturals      uranium club   \n",
       "3         22661                  first songs  kleenex, liliput   \n",
       "4         22725                    new start              taso   \n",
       "...         ...                          ...               ...   \n",
       "18412      1535               let us replay!           coldcut   \n",
       "18413      1341                         1999           cassius   \n",
       "18414      5376                  out of tune          mojave 3   \n",
       "18415      2413  singles breaking up, vol. 1     don caballero   \n",
       "18416      3723    left for dead in malaysia    neil hamburger   \n",
       "\n",
       "                                                     url  score  \\\n",
       "0      http://pitchfork.com/reviews/albums/22703-mezz...    9.3   \n",
       "1      http://pitchfork.com/reviews/albums/22721-prel...    7.9   \n",
       "2      http://pitchfork.com/reviews/albums/22659-all-...    7.3   \n",
       "3      http://pitchfork.com/reviews/albums/22661-firs...    9.0   \n",
       "4      http://pitchfork.com/reviews/albums/22725-new-...    8.1   \n",
       "...                                                  ...    ...   \n",
       "18412  http://pitchfork.com/reviews/albums/1535-let-u...    8.9   \n",
       "18413     http://pitchfork.com/reviews/albums/1341-1999/    4.8   \n",
       "18414  http://pitchfork.com/reviews/albums/5376-out-o...    6.3   \n",
       "18415  http://pitchfork.com/reviews/albums/2413-singl...    7.2   \n",
       "18416  http://pitchfork.com/reviews/albums/3723-left-...    6.5   \n",
       "\n",
       "       best_new_music           author               author_type    pub_date  \\\n",
       "0                   0      nate patrin               contributor  2017-01-08   \n",
       "1                   0         zoe camp               contributor  2017-01-07   \n",
       "2                   0   david glickman               contributor  2017-01-07   \n",
       "3                   1       jenn pelly  associate reviews editor  2017-01-06   \n",
       "4                   0     kevin lozano        tracks coordinator  2017-01-06   \n",
       "...               ...              ...                       ...         ...   \n",
       "18412               0  james p. wisdom                      None  1999-01-26   \n",
       "18413               0  james p. wisdom                      None  1999-01-26   \n",
       "18414               0   jason josephes               contributor  1999-01-12   \n",
       "18415               0  james p. wisdom                      None  1999-01-12   \n",
       "18416               0   jason josephes               contributor  1999-01-05   \n",
       "\n",
       "       pub_weekday  pub_day  pub_month  pub_year                    genre  \\\n",
       "0                6        8          1      2017               electronic   \n",
       "1                5        7          1      2017                    metal   \n",
       "2                5        7          1      2017                     rock   \n",
       "3                4        6          1      2017                     rock   \n",
       "4                4        6          1      2017               electronic   \n",
       "...            ...      ...        ...       ...                      ...   \n",
       "18412            1       26          1      1999          jazz|electronic   \n",
       "18413            1       26          1      1999               electronic   \n",
       "18414            1       12          1      1999                     rock   \n",
       "18415            1       12          1      1999  rock|metal|experimental   \n",
       "18416            1        5          1      1999                     None   \n",
       "\n",
       "       year                            label         artist_y  \\\n",
       "0      1998                           virgin   massive attack   \n",
       "1      2016                        hathenter         krallice   \n",
       "2      2016  static shock|fashionable idiots     uranium club   \n",
       "3      2016      kill rock stars|mississippi  kleenex|liliput   \n",
       "4      2016                          teklife             taso   \n",
       "...     ...                              ...              ...   \n",
       "18412  None                       ninja tune          coldcut   \n",
       "18413  None                      astralwerks          cassius   \n",
       "18414  None                              4ad         mojave 3   \n",
       "18415  1999                     touch and go    don caballero   \n",
       "18416  None                        drag city   neil hamburger   \n",
       "\n",
       "                                                 content  \n",
       "0      “Trip-hop” eventually became a ’90s punchline,...  \n",
       "1      Eight years, five albums, and two EPs in, the ...  \n",
       "2      Minneapolis’ Uranium Club seem to revel in bei...  \n",
       "3      Kleenex began with a crash. It transpired one ...  \n",
       "4      It is impossible to consider a given release b...  \n",
       "...                                                  ...  \n",
       "18412  The marketing guys of yer average modern megac...  \n",
       "18413  Well, it's been two weeks now, and I guess it'...  \n",
       "18414  Out of Tune is a Steve Martin album.  Yes, I'l...  \n",
       "18415  Well, kids, I just went back and re-read my re...  \n",
       "18416  Neil Hamburger's third comedy release is a des...  \n",
       "\n",
       "[18417 rows x 18 columns]>"
      ]
     },
     "execution_count": 11,
     "metadata": {},
     "output_type": "execute_result"
    }
   ],
   "source": [
    "import pandas as pd\n",
    "import numpy as np\n",
    "import matplotlib.pyplot as plt\n",
    "import datetime\n",
    "data = pd.read_json(\"../assets/allData.json\", orient='records')\n",
    "data.head"
   ]
  },
  {
   "cell_type": "code",
   "execution_count": 14,
   "id": "1e741f85",
   "metadata": {},
   "outputs": [
    {
     "name": "stdout",
     "output_type": "stream",
     "text": [
      "['2017-01-08T00:00:00.000000000' '2017-01-07T00:00:00.000000000'\n",
      " '2017-01-07T00:00:00.000000000' ... '1999-01-12T00:00:00.000000000'\n",
      " '1999-01-12T00:00:00.000000000' '1999-01-05T00:00:00.000000000']\n"
     ]
    }
   ],
   "source": [
    "data['pub_date'] = pd.to_datetime(data['pub_date'], format='%Y-%m-%d')\n",
    "pubDate = np.array(data['pub_date'])\n",
    "print(pubDate)\n"
   ]
  },
  {
   "cell_type": "code",
   "execution_count": 22,
   "id": "ab3dab4c",
   "metadata": {},
   "outputs": [
    {
     "name": "stdout",
     "output_type": "stream",
     "text": [
      "[2017 2017 2017 ... 1999 1999 1999]\n"
     ]
    }
   ],
   "source": [
    "years = np.array(data['pub_date'].dt.year)\n",
    "uniqueYears = np.unique(years)\n",
    "print(years)\n",
    "\n",
    "amount = []\n",
    "for name in uniqueYears:\n",
    "    amount.append(np.count_nonzero(years == name))\n",
    "    \n"
   ]
  },
  {
   "cell_type": "code",
   "execution_count": 31,
   "id": "198a155a",
   "metadata": {},
   "outputs": [
    {
     "name": "stdout",
     "output_type": "stream",
     "text": [
      "[2000 2002 2004 2006 2008 2010 2012 2014 2016]\n"
     ]
    },
    {
     "data": {
      "image/png": "[encoded data removed]",
      "text/plain": [
       "<Figure size 432x288 with 1 Axes>"
      ]
     },
     "metadata": {
      "needs_background": "light"
     },
     "output_type": "display_data"
    }
   ],
   "source": [
    "ticks = np.array([i for i in range(np.min(uniqueYears)+1, np.max(uniqueYears), 2)])\n",
    "fig = plt.figure()\n",
    "ax = fig.add_axes([0,0,1,1])\n",
    "ax.bar(uniqueYears, amount)\n",
    "plt.xticks(ticks)\n",
    "plt.show()"
   ]
  },
  {
   "cell_type": "code",
   "execution_count": null,
   "id": "ff68fa2d",
   "metadata": {},
   "outputs": [],
   "source": []
  },
  {
   "cell_type": "code",
   "execution_count": null,
   "id": "553939d8",
   "metadata": {},
   "outputs": [],
   "source": []
  },
  {
   "cell_type": "code",
   "execution_count": null,
   "id": "03fde790",
   "metadata": {},
   "outputs": [],
   "source": []
  },
  {
   "cell_type": "code",
   "execution_count": null,
   "id": "1265cea3",
   "metadata": {},
   "outputs": [],
   "source": []
  }
 ],
 "metadata": {
  "kernelspec": {
   "display_name": "Python 3 (ipykernel)",
   "language": "python",
   "name": "python3"
  },
  "language_info": {
   "codemirror_mode": {
    "name": "ipython",
    "version": 3
   },
   "file_extension": ".py",
   "mimetype": "text/x-python",
   "name": "python",
   "nbconvert_exporter": "python",
   "pygments_lexer": "ipython3",
   "version": "3.9.7"
  }
 },
 "nbformat": 4,
 "nbformat_minor": 5
}
