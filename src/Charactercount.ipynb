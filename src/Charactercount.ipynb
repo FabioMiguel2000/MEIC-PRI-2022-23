{
 "cells": [
  {
   "cell_type": "code",
   "execution_count": 10,
   "id": "3757b7c3",
   "metadata": {},
   "outputs": [
    {
     "data": {
      "text/html": [
       "<div>\n",
       "<style scoped>\n",
       "    .dataframe tbody tr th:only-of-type {\n",
       "        vertical-align: middle;\n",
       "    }\n",
       "\n",
       "    .dataframe tbody tr th {\n",
       "        vertical-align: top;\n",
       "    }\n",
       "\n",
       "    .dataframe thead th {\n",
       "        text-align: right;\n",
       "    }\n",
       "</style>\n",
       "<table border=\"1\" class=\"dataframe\">\n",
       "  <thead>\n",
       "    <tr style=\"text-align: right;\">\n",
       "      <th></th>\n",
       "      <th>reviewid</th>\n",
       "      <th>title</th>\n",
       "      <th>artist</th>\n",
       "      <th>score</th>\n",
       "      <th>author</th>\n",
       "      <th>review_publication_date</th>\n",
       "      <th>genre</th>\n",
       "      <th>song_release_year</th>\n",
       "      <th>record_label</th>\n",
       "      <th>review_content</th>\n",
       "    </tr>\n",
       "  </thead>\n",
       "  <tbody>\n",
       "    <tr>\n",
       "      <th>0</th>\n",
       "      <td>22703</td>\n",
       "      <td>mezzanine</td>\n",
       "      <td>massive attack</td>\n",
       "      <td>9.3</td>\n",
       "      <td>nate patrin</td>\n",
       "      <td>1483833600000</td>\n",
       "      <td>electronic</td>\n",
       "      <td>1998</td>\n",
       "      <td>virgin</td>\n",
       "      <td>“Trip-hop” eventually became a ’90s punchline,...</td>\n",
       "    </tr>\n",
       "    <tr>\n",
       "      <th>1</th>\n",
       "      <td>22721</td>\n",
       "      <td>prelapsarian</td>\n",
       "      <td>krallice</td>\n",
       "      <td>7.9</td>\n",
       "      <td>zoe camp</td>\n",
       "      <td>1483747200000</td>\n",
       "      <td>metal</td>\n",
       "      <td>2016</td>\n",
       "      <td>hathenter</td>\n",
       "      <td>Eight years, five albums, and two EPs in, the ...</td>\n",
       "    </tr>\n",
       "    <tr>\n",
       "      <th>2</th>\n",
       "      <td>22659</td>\n",
       "      <td>all of them naturals</td>\n",
       "      <td>uranium club</td>\n",
       "      <td>7.3</td>\n",
       "      <td>david glickman</td>\n",
       "      <td>1483747200000</td>\n",
       "      <td>rock</td>\n",
       "      <td>2016</td>\n",
       "      <td>static shock|fashionable idiots</td>\n",
       "      <td>Minneapolis’ Uranium Club seem to revel in bei...</td>\n",
       "    </tr>\n",
       "    <tr>\n",
       "      <th>3</th>\n",
       "      <td>22661</td>\n",
       "      <td>first songs</td>\n",
       "      <td>kleenex, liliput</td>\n",
       "      <td>9.0</td>\n",
       "      <td>jenn pelly</td>\n",
       "      <td>1483660800000</td>\n",
       "      <td>rock</td>\n",
       "      <td>2016</td>\n",
       "      <td>kill rock stars|mississippi</td>\n",
       "      <td>Kleenex began with a crash. It transpired one ...</td>\n",
       "    </tr>\n",
       "    <tr>\n",
       "      <th>4</th>\n",
       "      <td>22725</td>\n",
       "      <td>new start</td>\n",
       "      <td>taso</td>\n",
       "      <td>8.1</td>\n",
       "      <td>kevin lozano</td>\n",
       "      <td>1483660800000</td>\n",
       "      <td>electronic</td>\n",
       "      <td>2016</td>\n",
       "      <td>teklife</td>\n",
       "      <td>It is impossible to consider a given release b...</td>\n",
       "    </tr>\n",
       "    <tr>\n",
       "      <th>...</th>\n",
       "      <td>...</td>\n",
       "      <td>...</td>\n",
       "      <td>...</td>\n",
       "      <td>...</td>\n",
       "      <td>...</td>\n",
       "      <td>...</td>\n",
       "      <td>...</td>\n",
       "      <td>...</td>\n",
       "      <td>...</td>\n",
       "      <td>...</td>\n",
       "    </tr>\n",
       "    <tr>\n",
       "      <th>18412</th>\n",
       "      <td>1535</td>\n",
       "      <td>let us replay!</td>\n",
       "      <td>coldcut</td>\n",
       "      <td>8.9</td>\n",
       "      <td>james p. wisdom</td>\n",
       "      <td>917308800000</td>\n",
       "      <td>jazz|electronic</td>\n",
       "      <td>None</td>\n",
       "      <td>ninja tune</td>\n",
       "      <td>The marketing guys of yer average modern megac...</td>\n",
       "    </tr>\n",
       "    <tr>\n",
       "      <th>18413</th>\n",
       "      <td>1341</td>\n",
       "      <td>1999</td>\n",
       "      <td>cassius</td>\n",
       "      <td>4.8</td>\n",
       "      <td>james p. wisdom</td>\n",
       "      <td>917308800000</td>\n",
       "      <td>electronic</td>\n",
       "      <td>None</td>\n",
       "      <td>astralwerks</td>\n",
       "      <td>Well, it's been two weeks now, and I guess it'...</td>\n",
       "    </tr>\n",
       "    <tr>\n",
       "      <th>18414</th>\n",
       "      <td>5376</td>\n",
       "      <td>out of tune</td>\n",
       "      <td>mojave 3</td>\n",
       "      <td>6.3</td>\n",
       "      <td>jason josephes</td>\n",
       "      <td>916099200000</td>\n",
       "      <td>rock</td>\n",
       "      <td>None</td>\n",
       "      <td>4ad</td>\n",
       "      <td>Out of Tune is a Steve Martin album.  Yes, I'l...</td>\n",
       "    </tr>\n",
       "    <tr>\n",
       "      <th>18415</th>\n",
       "      <td>2413</td>\n",
       "      <td>singles breaking up, vol. 1</td>\n",
       "      <td>don caballero</td>\n",
       "      <td>7.2</td>\n",
       "      <td>james p. wisdom</td>\n",
       "      <td>916099200000</td>\n",
       "      <td>rock|metal|experimental</td>\n",
       "      <td>1999</td>\n",
       "      <td>touch and go</td>\n",
       "      <td>Well, kids, I just went back and re-read my re...</td>\n",
       "    </tr>\n",
       "    <tr>\n",
       "      <th>18416</th>\n",
       "      <td>3723</td>\n",
       "      <td>left for dead in malaysia</td>\n",
       "      <td>neil hamburger</td>\n",
       "      <td>6.5</td>\n",
       "      <td>jason josephes</td>\n",
       "      <td>915494400000</td>\n",
       "      <td>None</td>\n",
       "      <td>None</td>\n",
       "      <td>drag city</td>\n",
       "      <td>Neil Hamburger's third comedy release is a des...</td>\n",
       "    </tr>\n",
       "  </tbody>\n",
       "</table>\n",
       "<p>18417 rows × 10 columns</p>\n",
       "</div>"
      ],
      "text/plain": [
       "       reviewid                        title            artist  score  \\\n",
       "0         22703                    mezzanine    massive attack    9.3   \n",
       "1         22721                 prelapsarian          krallice    7.9   \n",
       "2         22659         all of them naturals      uranium club    7.3   \n",
       "3         22661                  first songs  kleenex, liliput    9.0   \n",
       "4         22725                    new start              taso    8.1   \n",
       "...         ...                          ...               ...    ...   \n",
       "18412      1535               let us replay!           coldcut    8.9   \n",
       "18413      1341                         1999           cassius    4.8   \n",
       "18414      5376                  out of tune          mojave 3    6.3   \n",
       "18415      2413  singles breaking up, vol. 1     don caballero    7.2   \n",
       "18416      3723    left for dead in malaysia    neil hamburger    6.5   \n",
       "\n",
       "                author  review_publication_date                    genre  \\\n",
       "0          nate patrin            1483833600000               electronic   \n",
       "1             zoe camp            1483747200000                    metal   \n",
       "2       david glickman            1483747200000                     rock   \n",
       "3           jenn pelly            1483660800000                     rock   \n",
       "4         kevin lozano            1483660800000               electronic   \n",
       "...                ...                      ...                      ...   \n",
       "18412  james p. wisdom             917308800000          jazz|electronic   \n",
       "18413  james p. wisdom             917308800000               electronic   \n",
       "18414   jason josephes             916099200000                     rock   \n",
       "18415  james p. wisdom             916099200000  rock|metal|experimental   \n",
       "18416   jason josephes             915494400000                     None   \n",
       "\n",
       "      song_release_year                     record_label  \\\n",
       "0                  1998                           virgin   \n",
       "1                  2016                        hathenter   \n",
       "2                  2016  static shock|fashionable idiots   \n",
       "3                  2016      kill rock stars|mississippi   \n",
       "4                  2016                          teklife   \n",
       "...                 ...                              ...   \n",
       "18412              None                       ninja tune   \n",
       "18413              None                      astralwerks   \n",
       "18414              None                              4ad   \n",
       "18415              1999                     touch and go   \n",
       "18416              None                        drag city   \n",
       "\n",
       "                                          review_content  \n",
       "0      “Trip-hop” eventually became a ’90s punchline,...  \n",
       "1      Eight years, five albums, and two EPs in, the ...  \n",
       "2      Minneapolis’ Uranium Club seem to revel in bei...  \n",
       "3      Kleenex began with a crash. It transpired one ...  \n",
       "4      It is impossible to consider a given release b...  \n",
       "...                                                  ...  \n",
       "18412  The marketing guys of yer average modern megac...  \n",
       "18413  Well, it's been two weeks now, and I guess it'...  \n",
       "18414  Out of Tune is a Steve Martin album.  Yes, I'l...  \n",
       "18415  Well, kids, I just went back and re-read my re...  \n",
       "18416  Neil Hamburger's third comedy release is a des...  \n",
       "\n",
       "[18417 rows x 10 columns]"
      ]
     },
     "execution_count": 10,
     "metadata": {},
     "output_type": "execute_result"
    }
   ],
   "source": [
    "import pandas as pd\n",
    "import numpy as np\n",
    "import matplotlib.pyplot as plt\n",
    "import seaborn as sns\n",
    "\n",
    "data = pd.read_json(\"../assets/clean_reviews.json\", orient='records')\n",
    "data"
   ]
  },
  {
   "cell_type": "code",
   "execution_count": 8,
   "id": "a310c942",
   "metadata": {},
   "outputs": [],
   "source": [
    "reviews = np.array(data['review_content'])\n",
    "wordcount = np.array([len(r) for r in reviews])"
   ]
  },
  {
   "cell_type": "code",
   "execution_count": 9,
   "id": "c48e703f",
   "metadata": {},
   "outputs": [
    {
     "name": "stdout",
     "output_type": "stream",
     "text": [
      "4058.0775913558127\n",
      "3773.0\n",
      "22419\n",
      "0\n"
     ]
    }
   ],
   "source": [
    "print(np.mean(wordcount))\n",
    "print(np.median(wordcount))\n",
    "print(np.max(wordcount))\n",
    "print(np.min(wordcount))"
   ]
  },
  {
   "cell_type": "code",
   "execution_count": 12,
   "id": "9bc37844",
   "metadata": {},
   "outputs": [
    {
     "data": {
      "text/plain": [
       "<AxesSubplot:ylabel='Density'>"
      ]
     },
     "execution_count": 12,
     "metadata": {},
     "output_type": "execute_result"
    },
    {
     "data": {
      "image/png": "[encoded data removed]",
      "text/plain": [
       "<Figure size 432x288 with 1 Axes>"
      ]
     },
     "metadata": {
      "needs_background": "light"
     },
     "output_type": "display_data"
    }
   ],
   "source": [
    "sns.kdeplot(wordcount)"
   ]
  },
  {
   "cell_type": "code",
   "execution_count": 33,
   "id": "b49363f2",
   "metadata": {},
   "outputs": [],
   "source": [
    "scores = np.round(wordcount.astype(int)/500)*500.0\n",
    "unique = np.unique(scores)\n",
    "amount = []\n",
    "for i in unique:\n",
    "    amount.append(np.count_nonzero(scores == i))\n",
    "\n",
    "amount = np.array(amount)\n",
    "relevantAmount = amount[amount > 1000]\n",
    "relevantUnique = unique[amount > 1000]\n",
    "\n"
   ]
  },
  {
   "cell_type": "code",
   "execution_count": 34,
   "id": "b4a5210e",
   "metadata": {},
   "outputs": [
    {
     "data": {
      "image/png": "[encoded data removed]",
      "text/plain": [
       "<Figure size 432x288 with 1 Axes>"
      ]
     },
     "metadata": {
      "needs_background": "light"
     },
     "output_type": "display_data"
    }
   ],
   "source": [
    "fig = plt.figure()\n",
    "ax = fig.add_axes([0,0,1,1])\n",
    "ax.bar(relevantUnique, relevantAmount)\n",
    "plt.show()"
   ]
  },
  {
   "cell_type": "code",
   "execution_count": 41,
   "id": "5730d4cf",
   "metadata": {},
   "outputs": [
    {
     "data": {
      "image/png": "[encoded data removed]",
      "text/plain": [
       "<Figure size 432x288 with 1 Axes>"
      ]
     },
     "metadata": {
      "needs_background": "light"
     },
     "output_type": "display_data"
    }
   ],
   "source": [
    "fig = plt.figure()\n",
    "ax = fig.add_axes([0,0,1,1])\n",
    "ax.bar(ide, amount)\n",
    "ax.set_yscale('log')\n",
    "plt.show()"
   ]
  }
 ],
 "metadata": {
  "kernelspec": {
   "display_name": "Python 3 (ipykernel)",
   "language": "python",
   "name": "python3"
  },
  "language_info": {
   "codemirror_mode": {
    "name": "ipython",
    "version": 3
   },
   "file_extension": ".py",
   "mimetype": "text/x-python",
   "name": "python",
   "nbconvert_exporter": "python",
   "pygments_lexer": "ipython3",
   "version": "3.9.7"
  }
 },
 "nbformat": 4,
 "nbformat_minor": 5
}
