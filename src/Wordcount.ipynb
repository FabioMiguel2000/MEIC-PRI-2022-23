{
 "cells": [
  {
   "cell_type": "code",
   "execution_count": 21,
   "id": "3757b7c3",
   "metadata": {},
   "outputs": [
    {
     "name": "stderr",
     "output_type": "stream",
     "text": [
      "[nltk_data] Downloading package stopwords to\n",
      "[nltk_data]     C:\\Users\\Lisa\\AppData\\Roaming\\nltk_data...\n",
      "[nltk_data]   Unzipping corpora\\stopwords.zip.\n"
     ]
    },
    {
     "data": {
      "text/html": [
       "<div>\n",
       "<style scoped>\n",
       "    .dataframe tbody tr th:only-of-type {\n",
       "        vertical-align: middle;\n",
       "    }\n",
       "\n",
       "    .dataframe tbody tr th {\n",
       "        vertical-align: top;\n",
       "    }\n",
       "\n",
       "    .dataframe thead th {\n",
       "        text-align: right;\n",
       "    }\n",
       "</style>\n",
       "<table border=\"1\" class=\"dataframe\">\n",
       "  <thead>\n",
       "    <tr style=\"text-align: right;\">\n",
       "      <th></th>\n",
       "      <th>reviewid</th>\n",
       "      <th>title</th>\n",
       "      <th>artist</th>\n",
       "      <th>score</th>\n",
       "      <th>author</th>\n",
       "      <th>review_publication_date</th>\n",
       "      <th>genre</th>\n",
       "      <th>song_release_year</th>\n",
       "      <th>record_label</th>\n",
       "      <th>review_content</th>\n",
       "    </tr>\n",
       "  </thead>\n",
       "  <tbody>\n",
       "    <tr>\n",
       "      <th>0</th>\n",
       "      <td>22703</td>\n",
       "      <td>mezzanine</td>\n",
       "      <td>massive attack</td>\n",
       "      <td>9.3</td>\n",
       "      <td>nate patrin</td>\n",
       "      <td>1483833600000</td>\n",
       "      <td>electronic</td>\n",
       "      <td>1998</td>\n",
       "      <td>virgin</td>\n",
       "      <td>“Trip-hop” eventually became a ’90s punchline,...</td>\n",
       "    </tr>\n",
       "    <tr>\n",
       "      <th>1</th>\n",
       "      <td>22721</td>\n",
       "      <td>prelapsarian</td>\n",
       "      <td>krallice</td>\n",
       "      <td>7.9</td>\n",
       "      <td>zoe camp</td>\n",
       "      <td>1483747200000</td>\n",
       "      <td>metal</td>\n",
       "      <td>2016</td>\n",
       "      <td>hathenter</td>\n",
       "      <td>Eight years, five albums, and two EPs in, the ...</td>\n",
       "    </tr>\n",
       "    <tr>\n",
       "      <th>2</th>\n",
       "      <td>22659</td>\n",
       "      <td>all of them naturals</td>\n",
       "      <td>uranium club</td>\n",
       "      <td>7.3</td>\n",
       "      <td>david glickman</td>\n",
       "      <td>1483747200000</td>\n",
       "      <td>rock</td>\n",
       "      <td>2016</td>\n",
       "      <td>static shock|fashionable idiots</td>\n",
       "      <td>Minneapolis’ Uranium Club seem to revel in bei...</td>\n",
       "    </tr>\n",
       "    <tr>\n",
       "      <th>3</th>\n",
       "      <td>22661</td>\n",
       "      <td>first songs</td>\n",
       "      <td>kleenex, liliput</td>\n",
       "      <td>9.0</td>\n",
       "      <td>jenn pelly</td>\n",
       "      <td>1483660800000</td>\n",
       "      <td>rock</td>\n",
       "      <td>2016</td>\n",
       "      <td>kill rock stars|mississippi</td>\n",
       "      <td>Kleenex began with a crash. It transpired one ...</td>\n",
       "    </tr>\n",
       "    <tr>\n",
       "      <th>4</th>\n",
       "      <td>22725</td>\n",
       "      <td>new start</td>\n",
       "      <td>taso</td>\n",
       "      <td>8.1</td>\n",
       "      <td>kevin lozano</td>\n",
       "      <td>1483660800000</td>\n",
       "      <td>electronic</td>\n",
       "      <td>2016</td>\n",
       "      <td>teklife</td>\n",
       "      <td>It is impossible to consider a given release b...</td>\n",
       "    </tr>\n",
       "    <tr>\n",
       "      <th>...</th>\n",
       "      <td>...</td>\n",
       "      <td>...</td>\n",
       "      <td>...</td>\n",
       "      <td>...</td>\n",
       "      <td>...</td>\n",
       "      <td>...</td>\n",
       "      <td>...</td>\n",
       "      <td>...</td>\n",
       "      <td>...</td>\n",
       "      <td>...</td>\n",
       "    </tr>\n",
       "    <tr>\n",
       "      <th>18412</th>\n",
       "      <td>1535</td>\n",
       "      <td>let us replay!</td>\n",
       "      <td>coldcut</td>\n",
       "      <td>8.9</td>\n",
       "      <td>james p. wisdom</td>\n",
       "      <td>917308800000</td>\n",
       "      <td>jazz|electronic</td>\n",
       "      <td>None</td>\n",
       "      <td>ninja tune</td>\n",
       "      <td>The marketing guys of yer average modern megac...</td>\n",
       "    </tr>\n",
       "    <tr>\n",
       "      <th>18413</th>\n",
       "      <td>1341</td>\n",
       "      <td>1999</td>\n",
       "      <td>cassius</td>\n",
       "      <td>4.8</td>\n",
       "      <td>james p. wisdom</td>\n",
       "      <td>917308800000</td>\n",
       "      <td>electronic</td>\n",
       "      <td>None</td>\n",
       "      <td>astralwerks</td>\n",
       "      <td>Well, it's been two weeks now, and I guess it'...</td>\n",
       "    </tr>\n",
       "    <tr>\n",
       "      <th>18414</th>\n",
       "      <td>5376</td>\n",
       "      <td>out of tune</td>\n",
       "      <td>mojave 3</td>\n",
       "      <td>6.3</td>\n",
       "      <td>jason josephes</td>\n",
       "      <td>916099200000</td>\n",
       "      <td>rock</td>\n",
       "      <td>None</td>\n",
       "      <td>4ad</td>\n",
       "      <td>Out of Tune is a Steve Martin album.  Yes, I'l...</td>\n",
       "    </tr>\n",
       "    <tr>\n",
       "      <th>18415</th>\n",
       "      <td>2413</td>\n",
       "      <td>singles breaking up, vol. 1</td>\n",
       "      <td>don caballero</td>\n",
       "      <td>7.2</td>\n",
       "      <td>james p. wisdom</td>\n",
       "      <td>916099200000</td>\n",
       "      <td>rock|metal|experimental</td>\n",
       "      <td>1999</td>\n",
       "      <td>touch and go</td>\n",
       "      <td>Well, kids, I just went back and re-read my re...</td>\n",
       "    </tr>\n",
       "    <tr>\n",
       "      <th>18416</th>\n",
       "      <td>3723</td>\n",
       "      <td>left for dead in malaysia</td>\n",
       "      <td>neil hamburger</td>\n",
       "      <td>6.5</td>\n",
       "      <td>jason josephes</td>\n",
       "      <td>915494400000</td>\n",
       "      <td>None</td>\n",
       "      <td>None</td>\n",
       "      <td>drag city</td>\n",
       "      <td>Neil Hamburger's third comedy release is a des...</td>\n",
       "    </tr>\n",
       "  </tbody>\n",
       "</table>\n",
       "<p>18417 rows × 10 columns</p>\n",
       "</div>"
      ],
      "text/plain": [
       "       reviewid                        title            artist  score  \\\n",
       "0         22703                    mezzanine    massive attack    9.3   \n",
       "1         22721                 prelapsarian          krallice    7.9   \n",
       "2         22659         all of them naturals      uranium club    7.3   \n",
       "3         22661                  first songs  kleenex, liliput    9.0   \n",
       "4         22725                    new start              taso    8.1   \n",
       "...         ...                          ...               ...    ...   \n",
       "18412      1535               let us replay!           coldcut    8.9   \n",
       "18413      1341                         1999           cassius    4.8   \n",
       "18414      5376                  out of tune          mojave 3    6.3   \n",
       "18415      2413  singles breaking up, vol. 1     don caballero    7.2   \n",
       "18416      3723    left for dead in malaysia    neil hamburger    6.5   \n",
       "\n",
       "                author  review_publication_date                    genre  \\\n",
       "0          nate patrin            1483833600000               electronic   \n",
       "1             zoe camp            1483747200000                    metal   \n",
       "2       david glickman            1483747200000                     rock   \n",
       "3           jenn pelly            1483660800000                     rock   \n",
       "4         kevin lozano            1483660800000               electronic   \n",
       "...                ...                      ...                      ...   \n",
       "18412  james p. wisdom             917308800000          jazz|electronic   \n",
       "18413  james p. wisdom             917308800000               electronic   \n",
       "18414   jason josephes             916099200000                     rock   \n",
       "18415  james p. wisdom             916099200000  rock|metal|experimental   \n",
       "18416   jason josephes             915494400000                     None   \n",
       "\n",
       "      song_release_year                     record_label  \\\n",
       "0                  1998                           virgin   \n",
       "1                  2016                        hathenter   \n",
       "2                  2016  static shock|fashionable idiots   \n",
       "3                  2016      kill rock stars|mississippi   \n",
       "4                  2016                          teklife   \n",
       "...                 ...                              ...   \n",
       "18412              None                       ninja tune   \n",
       "18413              None                      astralwerks   \n",
       "18414              None                              4ad   \n",
       "18415              1999                     touch and go   \n",
       "18416              None                        drag city   \n",
       "\n",
       "                                          review_content  \n",
       "0      “Trip-hop” eventually became a ’90s punchline,...  \n",
       "1      Eight years, five albums, and two EPs in, the ...  \n",
       "2      Minneapolis’ Uranium Club seem to revel in bei...  \n",
       "3      Kleenex began with a crash. It transpired one ...  \n",
       "4      It is impossible to consider a given release b...  \n",
       "...                                                  ...  \n",
       "18412  The marketing guys of yer average modern megac...  \n",
       "18413  Well, it's been two weeks now, and I guess it'...  \n",
       "18414  Out of Tune is a Steve Martin album.  Yes, I'l...  \n",
       "18415  Well, kids, I just went back and re-read my re...  \n",
       "18416  Neil Hamburger's third comedy release is a des...  \n",
       "\n",
       "[18417 rows x 10 columns]"
      ]
     },
     "execution_count": 21,
     "metadata": {},
     "output_type": "execute_result"
    }
   ],
   "source": [
    "import pandas as pd\n",
    "import numpy as np\n",
    "import matplotlib.pyplot as plt\n",
    "import seaborn as sns\n",
    "from collections import Counter\n",
    "import nltk\n",
    "nltk.download(\"stopwords\")\n",
    "from nltk.corpus import stopwords\n",
    "data = pd.read_json(\"../assets/clean_reviews.json\", orient='records')\n",
    "data"
   ]
  },
  {
   "cell_type": "code",
   "execution_count": 16,
   "id": "8f40bb27",
   "metadata": {},
   "outputs": [
    {
     "name": "stdout",
     "output_type": "stream",
     "text": [
      "Eight years, five albums, and two EPs in, the New York-based outfit Krallice have long since shut up purists about their “hipster black metal.” Their four-man, post-structural assembly line runs at a breakneck pace, taking great care to balance the intricate (Colin Marston and Mick Barr’s interlocking riffs, Lev Weinstein’s head-spinning polyrhythms) with the incendiary (best exemplified by Barr and Nick McMaster’s shared, animalistic vocal duties; the former’s a screaming eagle, the latter a growling hellhound). The quartet frequently capitalize on the element of surprise; Krallice’s last two releases—2015’s Ygg Huur and last winter’s Hyperion EP—dropped spontaneously, a pair of inter-dimensional rifts masquerading as albums, far from the hum of the hype machine. Early last month, the band opened the portal once more to announce their sixth album Prelapsarian, subsequently released sans fanfare on the Winter Solstice. Upon first glance, Prelapsarian, which the band recorded last summer, may not seem like much. Comprising four tracks and thirty-five minutes, the LP stands just a smidge taller than its predecessor, and sports a similarly dense stylistic template. Fans familiar with the stop-go surges and antiphonal touches of old will undoubtedly appreciate “Transformation Chronicles,” “Conflagration”, and “Lotus Throne,” the album’s staggered, epic triad.Hyperion’s copious lyrical references to mythology, astrophysics, and nihilistic philosophy belied an obsession with the cosmic. Prelapsarian, by contrast, is the product of a band firmly planted on terra firma, racing against the doomsday clock. Post-election anxiety runs rampant, manifested in everything from the title (derived from the age of humanity’s primordial, Edenic innocence, the original “good old days” before Adam and Eve shared a snack and sealed humanity’s grim fate), to the razed-earth panoramas framing the doomy, eight-minute-long dirge “Conflagration.” “Hate Power,” is the the album’s highlight: an odd apex, considering it’s only the second track on the album, and clocking in at less than four minutes, the shortest. Krallice songs usually sprawl out across nine, eleven minutes; in these cramped confines, Barr and McMaster stage an epic battle for control as the band totters between d-beat and death metal. Without their usual song length as a cushion, the song feels like a fight to the death in a windowless room. As the song thrashes itself nearly apart, the doomsday-clock ticking desperation is palpable. In their growing catalog, this is a relatively crisp release, a speedy little roller coaster situated alongside the Towers of Terror. But the moment is dense and terrifying enough to make Krallice fans wonder: What could they accomplish with an album of compositions this compact? Minneapolis’ Uranium Club seem to revel in being aggressively obtuse. They sprung up last year with their Human Exploration EP, an eight-song tape of some of the most tightly-wound, gleefully mean, and well-constructed punk to grace the underground in a while. Human Exploration quickly became a must-have of the punk scene, receiving multiple vinyl pressings, all while the band rejected any web presence and most interviews as well.All of Them Naturals, their second EP, is Uranium Club indulging even more in such pranksterish qualities. The first two minutes of audio are pulled from the Nation of Ulysses handbook of sarcasm and myth-making, as a man with a vaguely British accent comments fictitiously on all the band has supposedly accomplished since its last record, from selling novelty pencils to distributing pamphlets for “pseudo-intellectual literature circles and swingers’ parties.” Uranium Club must know that people have been patiently waiting to hear more from them, and the final track of All of Them Naturals winkingly plays into that: it’s a 30-second “excerpt” of another unreleased song.In between, Uranium Club spits out some pretty damn catchy, no-frills punk rock. They have quickly garnered comparisons to Devo, particularly the twitchy neurosis of the early Q: Are We Not Men? A: We Are Devo! era. It’s not unwarranted. Both bands share an affinity for guitar riffs so soaked in treble they could cut ear drums, and for attempting to shove as many starts and stops into a song as possible. “God’s Chest” is the frantic centerpiece of this release, and maybe the most directly hooky thing the band has crafted; it even incorporates some haywire synths near the end, a first for the band.Not that Uranium Club’s reference points are strictly in the past. The sour intro of “Operation Pt.II” clearly evokes Tyvek and the lo-fi punk that the Detroit outfit has been cultivating for over a decade, as do the relentless jagged hits of “The Lottery.” Contemporaries like the Coneheads (and, to a lesser extent, the enigmatic Northwest Indiana punk scene as a whole) have been melding old school punk love to the modern trash punk aesthetic, and are also here in spirit.The real secret of Uranium Club, though, is how casually talented they are. Besides the ridiculous precision of their playing, the interplay of the guitars clearly takes some notes from Wipers; the music is decidedly crude, but it’s still played with a well-honed intensity that flares up again and again. The buzzsaw solo in the middle of “Opus,” or gradual buildup and release of tension on “That Clown’s Got a Gun,” wouldn’t hit nearly as hard if it weren’t performed so forcefully here. Every song relishes in a ragged intensity, but never for a moment feels as if it could spiral out of control or fall apart, a rarity for bands in this genre.Of course, Uranium Club has the perfect mask for their technical skills: lyrics marred by a sardonic sense of humor. “The Lottery” spins a relentless tale of someone turning into an absolute monster upon hitting the jackpot, throwing everyone from their son to their mom under the bus. “Who Made the Man?,” with its constant repetition of that platitude, drives ever-darker emphasis on the consequences of your actions, from success to murder. Uranium Club is a band unafraid to toss a line like “Will you please piss on my teddy bear?” into a song for the pure sake of disorientation. The band clearly wants to keep everyone on edge. If the Uranium Club is anything, it is at least very self-aware of exactly what it is doing.\n"
     ]
    }
   ],
   "source": [
    "reviews = np.array(data['review_content'])\n",
    "print(np.sum(reviews[1:3]))"
   ]
  },
  {
   "cell_type": "code",
   "execution_count": 29,
   "id": "a310c942",
   "metadata": {},
   "outputs": [
    {
     "name": "stdout",
     "output_type": "stream",
     "text": [
      "[('mezzanine', 8), ('like', 7), ('massive', 6), ('it’s', 5), ('del', 5)]\n",
      "[('last', 4), ('band', 4), ('krallice', 3), ('prelapsarian,', 3), ('albums,', 2)]\n",
      "[('uranium', 9), ('club', 7), ('punk', 7), ('band', 5), ('it’s', 3)]\n",
      "[('kleenex', 10), ('like', 8), ('punk', 6), ('songs', 6), ('kleenex’s', 6)]\n",
      "[('footwork', 8), ('double', 7), ('taso', 5), ('way', 4), ('dj', 3)]\n"
     ]
    }
   ],
   "source": [
    "\n",
    "for r in reviews[0:5]:\n",
    "    splitted = r.split(' ')\n",
    "    cleaned = [t.lower() for t in splitted if t.lower() not in stopwords.words('english')]\n",
    "    all_counter = Counter(cleaned)\n",
    "    most_occur = all_counter.most_common(5)\n",
    "    print(most_occur)"
   ]
  },
  {
   "cell_type": "code",
   "execution_count": 39,
   "id": "c48e703f",
   "metadata": {},
   "outputs": [
    {
     "name": "stdout",
     "output_type": "stream",
     "text": [
      "687.6016776116109\n",
      "645.0\n",
      "1497\n",
      "210\n"
     ]
    }
   ],
   "source": [
    "print(np.mean(wordcount))\n",
    "print(np.median(wordcount))\n",
    "print(np.max(wordcount))\n",
    "print(np.min(wordcount))"
   ]
  },
  {
   "cell_type": "code",
   "execution_count": 40,
   "id": "1efb4989",
   "metadata": {},
   "outputs": [
    {
     "data": {
      "text/plain": [
       "<AxesSubplot:ylabel='Density'>"
      ]
     },
     "execution_count": 40,
     "metadata": {},
     "output_type": "execute_result"
    },
    {
     "data": {
      "image/png": "[encoded data removed]",
      "text/plain": [
       "<Figure size 432x288 with 1 Axes>"
      ]
     },
     "metadata": {
      "needs_background": "light"
     },
     "output_type": "display_data"
    }
   ],
   "source": [
    "sns.kdeplot(wordcount)"
   ]
  },
  {
   "cell_type": "code",
   "execution_count": 45,
   "id": "587c9b4d",
   "metadata": {},
   "outputs": [],
   "source": [
    "wordcount = wordcounts[wordcounts > 200]\n",
    "rating = ratings[wordcounts > 200]\n",
    "rating = rating[wordcount < 1500]\n",
    "wordcount = wordcount[wordcount < 1500]\n"
   ]
  },
  {
   "cell_type": "code",
   "execution_count": 46,
   "id": "74b6b4d4",
   "metadata": {},
   "outputs": [
    {
     "data": {
      "text/plain": [
       "<AxesSubplot:ylabel='Density'>"
      ]
     },
     "execution_count": 46,
     "metadata": {},
     "output_type": "execute_result"
    },
    {
     "data": {
      "image/png": "[encoded data removed]",
      "text/plain": [
       "<Figure size 432x288 with 1 Axes>"
      ]
     },
     "metadata": {
      "needs_background": "light"
     },
     "output_type": "display_data"
    }
   ],
   "source": [
    "sns.kdeplot(wordcount)"
   ]
  },
  {
   "cell_type": "raw",
   "id": "420b85de",
   "metadata": {},
   "source": []
  },
  {
   "cell_type": "code",
   "execution_count": 47,
   "id": "b49363f2",
   "metadata": {},
   "outputs": [
    {
     "name": "stdout",
     "output_type": "stream",
     "text": [
      "[  29   31 3415 7392 4399 1888  756  240  267]\n",
      "[   0.  200.  400.  600.  800. 1000. 1200. 1400. 1555.]\n",
      "[6.289655172413792, 6.493548387096775, 6.786412884333821, 6.8831033549783545, 7.072016367356218, 7.272245762711864, 7.50568783068783, 7.765416666666667, 8.297752808988765]\n"
     ]
    }
   ],
   "source": [
    "scores = np.round(wordcount.astype(int)/200)*200.0\n",
    "unique = np.unique(scores)\n",
    "amount = [np.count_nonzero(wordcounts <= 200)]\n",
    "r = [np.average(ratings[wordcounts <= 200])]\n",
    "for i in unique:\n",
    "    amount.append(np.count_nonzero(scores == i))\n",
    "    r.append(np.average(rating[scores == i]))\n",
    "\n",
    "\n",
    "amount.append(np.count_nonzero(wordcounts >= 1500))\n",
    "r.append(np.average(ratings[wordcounts >= 1500]))\n",
    "amount = np.array(amount)\n",
    "unique = np.concatenate((np.array([0]), unique))\n",
    "unique = np.concatenate((unique, np.array([1555])))\n",
    "print(amount)\n",
    "print(unique)\n",
    "print(r)\n",
    "\n"
   ]
  },
  {
   "cell_type": "code",
   "execution_count": 49,
   "id": "e7027c10",
   "metadata": {},
   "outputs": [
    {
     "data": {
      "text/plain": [
       "<AxesSubplot:xlabel='wordcount', ylabel='score'>"
      ]
     },
     "execution_count": 49,
     "metadata": {},
     "output_type": "execute_result"
    },
    {
     "data": {
      "image/png": "[encoded data removed]",
      "text/plain": [
       "<Figure size 432x288 with 1 Axes>"
      ]
     },
     "metadata": {
      "needs_background": "light"
     },
     "output_type": "display_data"
    }
   ],
   "source": [
    "df = pd.DataFrame({'wordcount':unique, 'y':amount, 'score':r })\n",
    "sns.barplot(data = df, x = 'wordcount', y = 'score')"
   ]
  },
  {
   "cell_type": "code",
   "execution_count": 53,
   "id": "f4d19393",
   "metadata": {},
   "outputs": [
    {
     "data": {
      "text/plain": [
       "<AxesSubplot:xlabel='wordcount', ylabel='score'>"
      ]
     },
     "execution_count": 53,
     "metadata": {},
     "output_type": "execute_result"
    },
    {
     "data": {
      "image/png": "[encoded data removed]",
      "text/plain": [
       "<Figure size 432x288 with 1 Axes>"
      ]
     },
     "metadata": {
      "needs_background": "light"
     },
     "output_type": "display_data"
    }
   ],
   "source": [
    "df2 = pd.DataFrame({'wordcount':wordcount, 'score':rating })\n",
    "sns.lineplot(data = df, x = 'wordcount', y = 'score')"
   ]
  },
  {
   "cell_type": "code",
   "execution_count": 18,
   "id": "ca22deec",
   "metadata": {},
   "outputs": [
    {
     "data": {
      "image/png": "[encoded data removed]",
      "text/plain": [
       "<Figure size 432x288 with 1 Axes>"
      ]
     },
     "metadata": {
      "needs_background": "light"
     },
     "output_type": "display_data"
    }
   ],
   "source": []
  },
  {
   "cell_type": "code",
   "execution_count": 41,
   "id": "5730d4cf",
   "metadata": {},
   "outputs": [
    {
     "data": {
      "image/png": "[encoded data removed]",
      "text/plain": [
       "<Figure size 432x288 with 1 Axes>"
      ]
     },
     "metadata": {
      "needs_background": "light"
     },
     "output_type": "display_data"
    }
   ],
   "source": []
  }
 ],
 "metadata": {
  "kernelspec": {
   "display_name": "Python 3 (ipykernel)",
   "language": "python",
   "name": "python3"
  },
  "language_info": {
   "codemirror_mode": {
    "name": "ipython",
    "version": 3
   },
   "file_extension": ".py",
   "mimetype": "text/x-python",
   "name": "python",
   "nbconvert_exporter": "python",
   "pygments_lexer": "ipython3",
   "version": "3.9.7"
  }
 },
 "nbformat": 4,
 "nbformat_minor": 5
}
